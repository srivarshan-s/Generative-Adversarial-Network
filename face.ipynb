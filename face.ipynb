{
 "cells": [
  {
   "cell_type": "code",
   "execution_count": 3,
   "id": "9bfb8ec5",
   "metadata": {},
   "outputs": [],
   "source": [
    "import numpy as np\n",
    "import pandas as pd\n",
    "import os\n",
    "from tqdm import tqdm\n",
    "from PIL import Image"
   ]
  },
  {
   "cell_type": "code",
   "execution_count": 22,
   "id": "6c3ffcbc",
   "metadata": {},
   "outputs": [],
   "source": [
    "PIC_DIR = './data/img_align_celeba/img_align_celeba/'"
   ]
  },
  {
   "cell_type": "code",
   "execution_count": 23,
   "id": "1e738310",
   "metadata": {},
   "outputs": [],
   "source": [
    "IMAGES_COUNT = 10000"
   ]
  },
  {
   "cell_type": "code",
   "execution_count": 24,
   "id": "fd7bcbc2",
   "metadata": {},
   "outputs": [],
   "source": [
    "ORIG_WIDTH = 178\n",
    "ORIG_HEIGHT = 208\n",
    "diff = (ORIG_HEIGHT - ORIG_WIDTH) // 2"
   ]
  },
  {
   "cell_type": "code",
   "execution_count": 25,
   "id": "af73a60c",
   "metadata": {},
   "outputs": [],
   "source": [
    "WIDTH = 128\n",
    "HEIGHT = 128"
   ]
  },
  {
   "cell_type": "code",
   "execution_count": 26,
   "id": "aab33c94",
   "metadata": {},
   "outputs": [],
   "source": [
    "crop_rect = (0, diff, ORIG_WIDTH, ORIG_HEIGHT - diff)"
   ]
  },
  {
   "cell_type": "code",
   "execution_count": 27,
   "id": "744efff3",
   "metadata": {},
   "outputs": [
    {
     "name": "stderr",
     "output_type": "stream",
     "text": [
      "100%|██████████| 10000/10000 [00:27<00:00, 369.17it/s]\n"
     ]
    }
   ],
   "source": [
    "images = []\n",
    "for pic_file in tqdm(os.listdir(PIC_DIR)[:IMAGES_COUNT]):\n",
    "    pic = Image.open(PIC_DIR + pic_file).crop(crop_rect)\n",
    "    pic.thumbnail((WIDTH, HEIGHT), Image.ANTIALIAS)\n",
    "    images.append(np.uint8(pic))"
   ]
  },
  {
   "cell_type": "code",
   "execution_count": 28,
   "id": "d5bdc5e8",
   "metadata": {},
   "outputs": [
    {
     "name": "stdout",
     "output_type": "stream",
     "text": [
      "(10000, 128, 128, 3)\n"
     ]
    }
   ],
   "source": [
    "images = np.array(images) / 255\n",
    "print(images.shape)"
   ]
  },
  {
   "cell_type": "code",
   "execution_count": 29,
   "id": "e7e6487e",
   "metadata": {},
   "outputs": [],
   "source": [
    "from matplotlib import pyplot as plt"
   ]
  },
  {
   "cell_type": "code",
   "execution_count": null,
   "id": "18460d79",
   "metadata": {},
   "outputs": [],
   "source": []
  }
 ],
 "metadata": {
  "interpreter": {
   "hash": "b309481601b8123478a73e3b5959723a487b1cd510a0e99f2116911d05a15f22"
  },
  "kernelspec": {
   "display_name": "faces",
   "language": "python",
   "name": "python3"
  },
  "language_info": {
   "codemirror_mode": {
    "name": "ipython",
    "version": 3
   },
   "file_extension": ".py",
   "mimetype": "text/x-python",
   "name": "python",
   "nbconvert_exporter": "python",
   "pygments_lexer": "ipython3",
   "version": "3.9.7"
  }
 },
 "nbformat": 4,
 "nbformat_minor": 5
}
